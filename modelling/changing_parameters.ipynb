{
 "cells": [
  {
   "cell_type": "markdown",
   "metadata": {},
   "source": [
    "## Changing parameters in a Mimi model\n",
    "\n",
    "This is meant as a simple hands-on example that can be readily executed and adapted. More thorough documentation, explanation and examples can be found [here](https://www.mimiframework.org/Mimi.jl/stable/tutorials/tutorial_3/)."
   ]
  },
  {
   "cell_type": "code",
   "execution_count": null,
   "metadata": {
    "vscode": {
     "languageId": "julia"
    }
   },
   "outputs": [],
   "source": [
    "using Pkg;\n",
    "Pkg.activate(\".\") # activate the environment in the \"modelling\" folder\n",
    "Pkg.instantiate() # install the packages in the environment"
   ]
  },
  {
   "cell_type": "markdown",
   "metadata": {},
   "source": [
    "### 1. Modifying DICE parameters\n",
    "\n",
    "Let's start by changing something in the DICE model. Here's a table with parameters that might be worthwile playing around with:\n",
    "\n",
    "| Parameter symbol | Component | Name and meaning | Source code |\n",
    "| --- | --- | --- | --- | \n",
    "| `:a2` | `:damages` | quadratic coefficient of damage function| [&rarr;](https://github.com/felixschaumann/OptMimiDICE2016R2.jl/blob/main/src/components/damages_component.jl) |\n",
    "| `:t2xco2` | `:climatedynamics` | equilibrium climate sensitivity | [&rarr;](https://github.com/felixschaumann/OptMimiDICE2016R2.jl/blob/main/src/components/climatedynamics_component.jl) |\n",
    "| `:elasmu` | `:welfare` | elasticity of marginal utility of consumption | [&rarr;](https://github.com/felixschaumann/OptMimiDICE2016R2.jl/blob/main/src/components/welfare_component.jl) |\n",
    "| `:rr` | `:welfare` | social discount rate (factor?) | [&rarr;](https://github.com/felixschaumann/OptMimiDICE2016R2.jl/blob/main/src/components/welfare_component.jl) |\n",
    "\n",
    "Note that when you adapt a certain parameter and run the model again, all the model variables will update according to the new equations and parameter values, but the model will **not optimise welfare**! `MimiDICE2016R2` is a simulation model that does not feature optimisation. That is, it can be used to evaluate the SCC along a certain path, but it does not welfare-optimise. If you want to be able to optimise, check out the [`OptMimiDICE2016R2` package](https://github.com/felixschaumann/OptMimiDICE2016R2.jl)."
   ]
  },
  {
   "cell_type": "code",
   "execution_count": null,
   "metadata": {
    "vscode": {
     "languageId": "julia"
    }
   },
   "outputs": [],
   "source": [
    "using Mimi\n",
    "using MimiDICE2016R2"
   ]
  },
  {
   "cell_type": "code",
   "execution_count": null,
   "metadata": {
    "vscode": {
     "languageId": "julia"
    }
   },
   "outputs": [],
   "source": [
    "m_DICE = MimiDICE2016R2.get_model()\n",
    "run(m_DICE)"
   ]
  },
  {
   "cell_type": "markdown",
   "metadata": {},
   "source": [
    "`m_DICE` is a standard DICE model for which we can explore results with `explore(m_DICE)`. Before we do that, let's change some parameters."
   ]
  },
  {
   "cell_type": "code",
   "execution_count": null,
   "metadata": {
    "vscode": {
     "languageId": "julia"
    }
   },
   "outputs": [],
   "source": [
    "# Howard & Sterner damage specification including productivity effect\n",
    "update_param!(m_DICE, :damages, :a2, 0.01145)\n",
    "run(m_DICE)\n",
    "\n",
    "m_DICE[:damages, :DAMAGES]"
   ]
  },
  {
   "cell_type": "markdown",
   "metadata": {},
   "source": [
    "The last line, following the syntax `model[:component, :variable]`, let's you look at the vector of time steps of a certain variable. In this case, we can see, how the damages over time change after having altered a damage function parameter."
   ]
  },
  {
   "cell_type": "code",
   "execution_count": null,
   "metadata": {
    "vscode": {
     "languageId": "julia"
    }
   },
   "outputs": [],
   "source": [
    "# A particularly low climate sensitivity (normally around 3)\n",
    "update_param!(m_DICE, :climatedynamics, :t2xco2, 2)\n",
    "\n",
    "m_DICE[:climatedynamics, :TATM]"
   ]
  },
  {
   "cell_type": "markdown",
   "metadata": {},
   "source": [
    "Let's calculate the SCC. See [here](https://github.com/anthofflab/MimiDICE2016R2.jl?tab=readme-ov-file#calculating-the-social-cost-of-carbon)."
   ]
  },
  {
   "cell_type": "code",
   "execution_count": null,
   "metadata": {
    "vscode": {
     "languageId": "julia"
    }
   },
   "outputs": [],
   "source": [
    "# Get the social cost of carbon in year 2020 from the default MimiDICE2016R2 model:\n",
    "scc = MimiDICE2016R2.compute_scc(m_DICE, year=2020, prtp=0.03)"
   ]
  },
  {
   "cell_type": "markdown",
   "metadata": {},
   "source": [
    "Now you can experiment which SCC values you get based on different parameters for the damage function, climate sensitivity, marginal elasticity of consumption, or the rate of pure time preference (`prtp` in the `compute_scc` function)."
   ]
  },
  {
   "cell_type": "markdown",
   "metadata": {
    "vscode": {
     "languageId": "julia"
    }
   },
   "source": [
    "### 2. Modifying META parameters"
   ]
  },
  {
   "cell_type": "markdown",
   "metadata": {},
   "source": [
    "Let's first go into the directory of the META-2021 model."
   ]
  },
  {
   "cell_type": "code",
   "execution_count": null,
   "metadata": {
    "vscode": {
     "languageId": "julia"
    }
   },
   "outputs": [],
   "source": [
    "cd(\"./META-2021/src\") # change directory\n",
    "include(\"../src/MimiMETA.jl\")"
   ]
  },
  {
   "cell_type": "code",
   "execution_count": null,
   "metadata": {
    "vscode": {
     "languageId": "julia"
    }
   },
   "outputs": [],
   "source": [
    "include(\"./META-2021/src/MimiMETA.jl\")"
   ]
  },
  {
   "cell_type": "markdown",
   "metadata": {
    "vscode": {
     "languageId": "julia"
    }
   },
   "source": [
    "Sometimes, it is necessary to run a simple `model` first. Seems to be a bug, but don't worry about ut."
   ]
  },
  {
   "cell_type": "code",
   "execution_count": null,
   "metadata": {
    "vscode": {
     "languageId": "julia"
    }
   },
   "outputs": [],
   "source": [
    "model = base_model();\n",
    "run(model);"
   ]
  },
  {
   "cell_type": "code",
   "execution_count": null,
   "metadata": {
    "vscode": {
     "languageId": "julia"
    }
   },
   "outputs": [],
   "source": [
    "m_base = base_model(rcp=\"RCP4.5\", ssp=\"SSP2\", tdamage=\"pointestimate\", slrdamage=\"mode\");\n",
    "run(m_base);\n",
    "\n",
    "m_full = full_model(rcp=\"RCP4.5\", ssp=\"SSP2\", tdamage=\"pointestimate\", slrdamage=\"mode\");\n",
    "run(m_full);"
   ]
  },
  {
   "cell_type": "code",
   "execution_count": null,
   "metadata": {
    "vscode": {
     "languageId": "julia"
    }
   },
   "outputs": [],
   "source": [
    "include(\"./META-2021/scc.jl\") # include the scc calculation file\n",
    "\n",
    "scc_base = calculate_scc(m_base, 2020, 10., 1.5) # year 2020, emissions pulse 10Gt CO2, elasticity of marginal utility 1.5\n",
    "scc_full = calculate_scc(m_full, 2020, 10., 1.5)"
   ]
  },
  {
   "cell_type": "markdown",
   "metadata": {},
   "source": [
    "Again, as in the case for DICE, you can try to vary parameters, look at the current parameter values with `model[:component, :parameter]`, and change them using `update_param!` and `run`. \n",
    "\n",
    "See more information on running the META model and calculating SCC values [here](https://github.com/openmodels/META-2021?tab=readme-ov-file#mimi-model)."
   ]
  }
 ],
 "metadata": {
  "language_info": {
   "name": "python"
  }
 },
 "nbformat": 4,
 "nbformat_minor": 2
}
