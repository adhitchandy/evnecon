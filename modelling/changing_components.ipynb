{
 "cells": [
  {
   "cell_type": "markdown",
   "metadata": {},
   "source": [
    "## Changing components in a Mimi model\n",
    "\n",
    "This is meant as a simple hands-on example that can be readily executed and adapted. Some more documentation examples can be found [here](https://www.mimiframework.org/Mimi.jl/stable/tutorials/tutorial_3/#Component-and-Structural-Modifications:-The-API-1).\n",
    "\n",
    "> NOTE:\n",
    "> If you prefer this tutorial as a `.jl` file, just copy out the\n",
    "> code bits and execute them there, with `#%%` to separate cells."
   ]
  },
  {
   "cell_type": "code",
   "execution_count": null,
   "metadata": {},
   "outputs": [],
   "source": [
    "using Pkg;\n",
    "Pkg.activate(\".\") # activate the environment in the \"modelling\" folder\n",
    "Pkg.instantiate() # install the packages in the environment"
   ]
  },
  {
   "cell_type": "markdown",
   "metadata": {},
   "source": [
    "### 1. Modifying a DICE component\n",
    "\n",
    "Let's change the DICE damage component. Currently, it operates like this:\n",
    "$\\begin{equation}\n",
    "    DAMFRAC = a_2 T_\\text{atm}^2\n",
    "\\end{equation}$\n",
    "($a_1=0, a_3=2$), or in code:\n",
    "```julia\n",
    "v.DAMFRAC[t] = p.a1 * p.TATM[t] + p.a2 * p.TATM[t] ^ p.a3\n",
    "```\n",
    "That means, the fraction of climate damages compared to total world GDP in a given timestep is calculated based on the global mean surface temperature of the same timestep. Timesteps in DICE2016 are 5 years long.\n",
    "\n",
    "Let's assume that damages don't only depend on the given time period, but also to some extent on the previous one. For simplicitly, let's assume that 50% of the climate damages (in relative terms) that occured in the previous time period still affect the economy in the subsequent time period.\n",
    "\n",
    "In code, this can be done by making the variable `v.DAMFRAC[t]` depend not only on `p.TATM[t]`, but also on `p.TATM[t-1]`. The adapted equation (in code) looks like this:\n",
    "```julia\n",
    "v.DAMFRAC[t] = p.a1 * p.TATM[t] + p.a2 * p.TATM[t] ^ p.a3 + 0.5 * p.a2 * p.TATM[t-1] ^ p.a3 \n",
    "```\n",
    "Now there is one complication: what happens in the first time step? To calculate `v.DAMFRAC[1]`, the equation new requires `p.TATM[0]`, which does not exist (because 1 is the first time step). Running the model like this will throw an error.\n",
    "\n",
    "We can resolve this by explicitly treating the first time step differently:\n",
    "```julia\n",
    "if is_first(t)\n",
    "    v.DAMFRAC[t] = p.a1 * p.TATM[t] + p.a2 * p.TATM[t] ^ p.a3 + 0.5 * p.a2 * p.tatm0 ^ p.a3\n",
    "else\n",
    "    v.DAMFRAC[t] = p.a1 * p.TATM[t] + p.a2 * p.TATM[t] ^ p.a3 + 0.5 * p.a2 * p.TATM[t-1] ^ p.a3\n",
    "end\n",
    "```\n",
    "Now, in the first timestep damages depend on a time-independent temperature value for the 0th timestep `p.tatm0` that we will have to set later. In code adding a new parameter to a component will require a line of this form:\n",
    "```julia\n",
    "tatm0 = Parameter() # Initial atmospheric temp change (C from 1900)\n",
    "```\n",
    "\n",
    "By the way, this structural modification is not meant to be realistic or necessarily super sensible, but mainly to showcase the procedure of replacing a Mimi component."
   ]
  },
  {
   "cell_type": "markdown",
   "metadata": {},
   "source": [
    "### 2. Loading and using a modified component"
   ]
  },
  {
   "cell_type": "code",
   "execution_count": null,
   "metadata": {},
   "outputs": [],
   "source": [
    "using Mimi\n",
    "using MimiDICE2016R2"
   ]
  },
  {
   "cell_type": "code",
   "execution_count": null,
   "metadata": {},
   "outputs": [],
   "source": [
    "m_DICE = MimiDICE2016R2.get_model()\n",
    "run(m_DICE)"
   ]
  },
  {
   "cell_type": "markdown",
   "metadata": {},
   "source": [
    "The modified damage component can be loaded with the `include` statemtent and then replace the original `:damages` component. All parameter connections will stay in place."
   ]
  },
  {
   "cell_type": "code",
   "execution_count": null,
   "metadata": {},
   "outputs": [],
   "source": [
    "include(\"./modified_damages_component.jl\")\n",
    "replace!(m_DICE, :damages => modified_damages);"
   ]
  },
  {
   "cell_type": "markdown",
   "metadata": {},
   "source": [
    "The newly introduced parameter `tatm0`, though, still has to be set. The `:climatedynamics` component already has such a `tatm0` parameter, which we now want to connect. To connect two parameters, we can create a shared model parameter `:initial_temp`, which we set to the value of `tatm0` in `:climatedynamics`."
   ]
  },
  {
   "cell_type": "code",
   "execution_count": null,
   "metadata": {},
   "outputs": [],
   "source": [
    "tatm0 = m_DICE[:climatedynamics, :tatm0]\n",
    "add_shared_param!(m_DICE, :initial_temp, tatm0)"
   ]
  },
  {
   "cell_type": "markdown",
   "metadata": {},
   "source": [
    "Having created this shared model parameter, we can connect it to the two `tatm0` parameters in the respective components and run the model with the updated damage equation."
   ]
  },
  {
   "cell_type": "code",
   "execution_count": null,
   "metadata": {},
   "outputs": [],
   "source": [
    "connect_param!(m_DICE, :damages, :tatm0, :initial_temp)\n",
    "connect_param!(m_DICE, :climatedynamics, :tatm0, :initial_temp)"
   ]
  },
  {
   "cell_type": "code",
   "execution_count": null,
   "metadata": {},
   "outputs": [],
   "source": [
    "run(m_DICE)"
   ]
  }
 ],
 "metadata": {
  "kernelspec": {
   "display_name": "Julia 1.10.3",
   "language": "julia",
   "name": "julia-1.10"
  },
  "language_info": {
   "file_extension": ".jl",
   "mimetype": "application/julia",
   "name": "julia",
   "version": "1.10.3"
  }
 },
 "nbformat": 4,
 "nbformat_minor": 2
}
