{
 "cells": [
  {
   "cell_type": "markdown",
   "metadata": {},
   "source": [
    "## Optimising DICE"
   ]
  },
  {
   "cell_type": "code",
   "execution_count": null,
   "metadata": {
    "vscode": {
     "languageId": "julia"
    }
   },
   "outputs": [],
   "source": [
    "using Pkg;\n",
    "Pkg.activate(\".\") # activate the environment in the \"modelling\" folder\n",
    "Pkg.instantiate() # install the packages in the environment"
   ]
  },
  {
   "cell_type": "markdown",
   "metadata": {},
   "source": [
    "### Replacing MimiDICE2016R2 with OptMimiDICE2016R2\n",
    "\n",
    "OptMimiDICE2016R2 is a fork of MimiDICE2016R2 that includes an optimisation routine. Because they share the same package ID, we need to remove MimiDICE2016R2 before adding OptMimiDICE2016R2.\n",
    "You need to do this only once. After that, you can comment out the following lines."
   ]
  },
  {
   "cell_type": "code",
   "execution_count": null,
   "metadata": {
    "vscode": {
     "languageId": "julia"
    }
   },
   "outputs": [],
   "source": [
    "Pkg.rm(\"MimiDICE2016R2\")\n",
    "Pkg.add(url=\"https://github.com/felixschaumann/OptMimiDICE2016R2.jl\")"
   ]
  },
  {
   "cell_type": "markdown",
   "metadata": {},
   "source": [
    "### Running and optimising DICE"
   ]
  },
  {
   "cell_type": "code",
   "execution_count": null,
   "metadata": {
    "vscode": {
     "languageId": "julia"
    }
   },
   "outputs": [],
   "source": [
    "using Mimi\n",
    "using OptMimiDICE2016R2"
   ]
  },
  {
   "cell_type": "code",
   "execution_count": null,
   "metadata": {
    "vscode": {
     "languageId": "julia"
    }
   },
   "outputs": [],
   "source": [
    "m_opt = OptMimiDICE2016R2.get_model()\n",
    "run(m_opt)"
   ]
  },
  {
   "cell_type": "code",
   "execution_count": null,
   "metadata": {
    "vscode": {
     "languageId": "julia"
    }
   },
   "outputs": [],
   "source": [
    "@time m_opt, diagn = OptMimiDICE2016R2.optimise_model(m_opt)"
   ]
  },
  {
   "cell_type": "markdown",
   "metadata": {},
   "source": [
    "Note that in this optimised version, emissions and temperature are lower than in the baseline DICE model."
   ]
  },
  {
   "cell_type": "code",
   "execution_count": null,
   "metadata": {
    "vscode": {
     "languageId": "julia"
    }
   },
   "outputs": [],
   "source": [
    "explore(m_opt)"
   ]
  },
  {
   "cell_type": "markdown",
   "metadata": {},
   "source": [
    "Again, you can change parameters, or components, and re-run the optimisation to see how the model behaves under different conditions."
   ]
  }
 ],
 "metadata": {
  "language_info": {
   "name": "python"
  }
 },
 "nbformat": 4,
 "nbformat_minor": 2
}
